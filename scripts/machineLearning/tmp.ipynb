{
 "cells": [
  {
   "cell_type": "code",
   "execution_count": 18,
   "metadata": {},
   "outputs": [],
   "source": [
    "import os\n",
    "import pandas as pd\n",
    "from sklearn.ensemble import RandomForestClassifier\n",
    "from sklearn.model_selection import train_test_split, cross_validate, cross_val_predict, cross_val_score\n",
    "import sys\n",
    "tmp_path = os.getcwd().split(\"MedicalAssistant_V2\")[0]\n",
    "target_path = os.path.join(tmp_path, 'MedicalAssistant_V2')\n",
    "sys.path[:0] = [target_path]\n",
    "from scripts.explore.dataPreprocessing import dataPreprocessing\n"
   ]
  },
  {
   "cell_type": "code",
   "execution_count": 22,
   "metadata": {},
   "outputs": [],
   "source": [
    "# df = dataPreprocessing()\n",
    "df = pd.read_csv(r'C:\\Users\\digi\\OneDrive - RDK Solutions\\SMARTEL_Diginamic\\15 - Projet IA ML\\MedicalAssistant_V2\\assets\\heart_2020_light.csv')\n"
   ]
  },
  {
   "cell_type": "code",
   "execution_count": null,
   "metadata": {},
   "outputs": [],
   "source": []
  },
  {
   "cell_type": "code",
   "execution_count": 23,
   "metadata": {},
   "outputs": [
    {
     "data": {
      "text/plain": [
       "0        3.0\n",
       "1        0.0\n",
       "2       20.0\n",
       "3        0.0\n",
       "4       28.0\n",
       "        ... \n",
       "1995     0.0\n",
       "1996     2.0\n",
       "1997     0.0\n",
       "1998     5.0\n",
       "1999     0.0\n",
       "Name: PhysicalHealth, Length: 2000, dtype: float64"
      ]
     },
     "execution_count": 23,
     "metadata": {},
     "output_type": "execute_result"
    }
   ],
   "source": [
    "ph = df['PhysicalHealth']\n",
    "ph"
   ]
  },
  {
   "cell_type": "code",
   "execution_count": 1,
   "metadata": {},
   "outputs": [
    {
     "data": {
      "text/plain": [
       "{1: '1-29',\n",
       " 2: '1-29',\n",
       " 3: '1-29',\n",
       " 4: '1-29',\n",
       " 5: '1-29',\n",
       " 6: '1-29',\n",
       " 7: '1-29',\n",
       " 8: '1-29',\n",
       " 9: '1-29',\n",
       " 10: '1-29',\n",
       " 11: '1-29',\n",
       " 12: '1-29',\n",
       " 13: '1-29',\n",
       " 14: '1-29',\n",
       " 15: '1-29',\n",
       " 16: '1-29',\n",
       " 17: '1-29',\n",
       " 18: '1-29',\n",
       " 19: '1-29',\n",
       " 20: '1-29',\n",
       " 21: '1-29',\n",
       " 22: '1-29',\n",
       " 23: '1-29',\n",
       " 24: '1-29',\n",
       " 25: '1-29',\n",
       " 26: '1-29',\n",
       " 27: '1-29',\n",
       " 28: '1-29',\n",
       " 29: '1-29',\n",
       " 0: '0',\n",
       " 30: '30'}"
      ]
     },
     "execution_count": 1,
     "metadata": {},
     "output_type": "execute_result"
    }
   ],
   "source": [
    "keys = list(range(1,30))\n",
    "vals = ['1-29']*29\n",
    "dict_remplace = dict(zip(keys, vals))\n",
    "dict_remplace[0] = '0'\n",
    "dict_remplace[30] = '30'\n",
    "dict_remplace\n"
   ]
  },
  {
   "cell_type": "code",
   "execution_count": 34,
   "metadata": {},
   "outputs": [
    {
     "data": {
      "text/plain": [
       "0        3.0\n",
       "1        0.0\n",
       "2       20.0\n",
       "3        0.0\n",
       "4       28.0\n",
       "        ... \n",
       "1995     0.0\n",
       "1996     2.0\n",
       "1997     0.0\n",
       "1998     5.0\n",
       "1999     0.0\n",
       "Name: PhysicalHealth, Length: 2000, dtype: float64"
      ]
     },
     "execution_count": 34,
     "metadata": {},
     "output_type": "execute_result"
    }
   ],
   "source": [
    "ph.map(dict_remplace)\n",
    "ph"
   ]
  },
  {
   "cell_type": "code",
   "execution_count": null,
   "metadata": {},
   "outputs": [],
   "source": []
  }
 ],
 "metadata": {
  "kernelspec": {
   "display_name": "venv",
   "language": "python",
   "name": "python3"
  },
  "language_info": {
   "codemirror_mode": {
    "name": "ipython",
    "version": 3
   },
   "file_extension": ".py",
   "mimetype": "text/x-python",
   "name": "python",
   "nbconvert_exporter": "python",
   "pygments_lexer": "ipython3",
   "version": "3.11.3"
  },
  "orig_nbformat": 4
 },
 "nbformat": 4,
 "nbformat_minor": 2
}
